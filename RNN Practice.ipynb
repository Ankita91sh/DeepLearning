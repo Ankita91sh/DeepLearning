{
 "cells": [
  {
   "cell_type": "markdown",
   "id": "16c64ec3",
   "metadata": {},
   "source": [
    "Importing relevant libraries"
   ]
  },
  {
   "cell_type": "code",
   "execution_count": 1,
   "id": "08b7fd27",
   "metadata": {},
   "outputs": [],
   "source": [
    "import pandas as pd\n",
    "import numpy as np"
   ]
  },
  {
   "cell_type": "code",
   "execution_count": 58,
   "id": "65ea8bb8",
   "metadata": {},
   "outputs": [],
   "source": [
    "df1=pd.read_csv('reviews.csv')\n",
    "df2=pd.read_excel('listings.xlsx')"
   ]
  },
  {
   "cell_type": "code",
   "execution_count": 59,
   "id": "d4d26164",
   "metadata": {},
   "outputs": [
    {
     "data": {
      "text/html": [
       "<div>\n",
       "<style scoped>\n",
       "    .dataframe tbody tr th:only-of-type {\n",
       "        vertical-align: middle;\n",
       "    }\n",
       "\n",
       "    .dataframe tbody tr th {\n",
       "        vertical-align: top;\n",
       "    }\n",
       "\n",
       "    .dataframe thead th {\n",
       "        text-align: right;\n",
       "    }\n",
       "</style>\n",
       "<table border=\"1\" class=\"dataframe\">\n",
       "  <thead>\n",
       "    <tr style=\"text-align: right;\">\n",
       "      <th></th>\n",
       "      <th>id</th>\n",
       "      <th>comments</th>\n",
       "      <th>review_scores_rating</th>\n",
       "    </tr>\n",
       "  </thead>\n",
       "  <tbody>\n",
       "    <tr>\n",
       "      <th>0</th>\n",
       "      <td>66856</td>\n",
       "      <td>The host canceled my reservation 9 days before...</td>\n",
       "      <td>0.0</td>\n",
       "    </tr>\n",
       "    <tr>\n",
       "      <th>1</th>\n",
       "      <td>3947515</td>\n",
       "      <td>The host canceled this reservation 147 days be...</td>\n",
       "      <td>0.0</td>\n",
       "    </tr>\n",
       "    <tr>\n",
       "      <th>2</th>\n",
       "      <td>6729959</td>\n",
       "      <td>The host canceled this reservation 40 days bef...</td>\n",
       "      <td>0.0</td>\n",
       "    </tr>\n",
       "    <tr>\n",
       "      <th>3</th>\n",
       "      <td>6748779</td>\n",
       "      <td>The host canceled this reservation the day bef...</td>\n",
       "      <td>0.0</td>\n",
       "    </tr>\n",
       "    <tr>\n",
       "      <th>4</th>\n",
       "      <td>7278811</td>\n",
       "      <td>The host canceled this reservation 2 days befo...</td>\n",
       "      <td>0.0</td>\n",
       "    </tr>\n",
       "  </tbody>\n",
       "</table>\n",
       "</div>"
      ],
      "text/plain": [
       "        id                                           comments  \\\n",
       "0    66856  The host canceled my reservation 9 days before...   \n",
       "1  3947515  The host canceled this reservation 147 days be...   \n",
       "2  6729959  The host canceled this reservation 40 days bef...   \n",
       "3  6748779  The host canceled this reservation the day bef...   \n",
       "4  7278811  The host canceled this reservation 2 days befo...   \n",
       "\n",
       "   review_scores_rating  \n",
       "0                   0.0  \n",
       "1                   0.0  \n",
       "2                   0.0  \n",
       "3                   0.0  \n",
       "4                   0.0  "
      ]
     },
     "execution_count": 59,
     "metadata": {},
     "output_type": "execute_result"
    }
   ],
   "source": [
    "new_rev = df1[['listing_id','comments']]\n",
    "new_lst = df2[['id','review_scores_rating']]\n",
    "df3=pd.merge(new_lst,new_rev, left_on='id', right_on='listing_id', how='left')\n",
    "df3 = df3[['id','comments','review_scores_rating']]\n",
    "train_df=df3.dropna()\n",
    "train_df.head()"
   ]
  },
  {
   "cell_type": "code",
   "execution_count": 60,
   "id": "6b0907bc",
   "metadata": {},
   "outputs": [
    {
     "name": "stderr",
     "output_type": "stream",
     "text": [
      "C:\\Users\\lenovo\\AppData\\Local\\Temp/ipykernel_8120/99325947.py:1: SettingWithCopyWarning: \n",
      "A value is trying to be set on a copy of a slice from a DataFrame.\n",
      "Try using .loc[row_indexer,col_indexer] = value instead\n",
      "\n",
      "See the caveats in the documentation: https://pandas.pydata.org/pandas-docs/stable/user_guide/indexing.html#returning-a-view-versus-a-copy\n",
      "  train_df['ratings']=train_df['review_scores_rating']//1\n"
     ]
    }
   ],
   "source": [
    "train_df['ratings']=train_df['review_scores_rating']//1"
   ]
  },
  {
   "cell_type": "code",
   "execution_count": 61,
   "id": "8929962e",
   "metadata": {},
   "outputs": [
    {
     "data": {
      "text/html": [
       "<div>\n",
       "<style scoped>\n",
       "    .dataframe tbody tr th:only-of-type {\n",
       "        vertical-align: middle;\n",
       "    }\n",
       "\n",
       "    .dataframe tbody tr th {\n",
       "        vertical-align: top;\n",
       "    }\n",
       "\n",
       "    .dataframe thead th {\n",
       "        text-align: right;\n",
       "    }\n",
       "</style>\n",
       "<table border=\"1\" class=\"dataframe\">\n",
       "  <thead>\n",
       "    <tr style=\"text-align: right;\">\n",
       "      <th></th>\n",
       "      <th>id</th>\n",
       "      <th>comments</th>\n",
       "      <th>review_scores_rating</th>\n",
       "      <th>ratings</th>\n",
       "    </tr>\n",
       "  </thead>\n",
       "  <tbody>\n",
       "    <tr>\n",
       "      <th>0</th>\n",
       "      <td>66856</td>\n",
       "      <td>The host canceled my reservation 9 days before...</td>\n",
       "      <td>0.0</td>\n",
       "      <td>0.0</td>\n",
       "    </tr>\n",
       "    <tr>\n",
       "      <th>1</th>\n",
       "      <td>3947515</td>\n",
       "      <td>The host canceled this reservation 147 days be...</td>\n",
       "      <td>0.0</td>\n",
       "      <td>0.0</td>\n",
       "    </tr>\n",
       "    <tr>\n",
       "      <th>2</th>\n",
       "      <td>6729959</td>\n",
       "      <td>The host canceled this reservation 40 days bef...</td>\n",
       "      <td>0.0</td>\n",
       "      <td>0.0</td>\n",
       "    </tr>\n",
       "    <tr>\n",
       "      <th>3</th>\n",
       "      <td>6748779</td>\n",
       "      <td>The host canceled this reservation the day bef...</td>\n",
       "      <td>0.0</td>\n",
       "      <td>0.0</td>\n",
       "    </tr>\n",
       "    <tr>\n",
       "      <th>4</th>\n",
       "      <td>7278811</td>\n",
       "      <td>The host canceled this reservation 2 days befo...</td>\n",
       "      <td>0.0</td>\n",
       "      <td>0.0</td>\n",
       "    </tr>\n",
       "  </tbody>\n",
       "</table>\n",
       "</div>"
      ],
      "text/plain": [
       "        id                                           comments  \\\n",
       "0    66856  The host canceled my reservation 9 days before...   \n",
       "1  3947515  The host canceled this reservation 147 days be...   \n",
       "2  6729959  The host canceled this reservation 40 days bef...   \n",
       "3  6748779  The host canceled this reservation the day bef...   \n",
       "4  7278811  The host canceled this reservation 2 days befo...   \n",
       "\n",
       "   review_scores_rating  ratings  \n",
       "0                   0.0      0.0  \n",
       "1                   0.0      0.0  \n",
       "2                   0.0      0.0  \n",
       "3                   0.0      0.0  \n",
       "4                   0.0      0.0  "
      ]
     },
     "execution_count": 61,
     "metadata": {},
     "output_type": "execute_result"
    }
   ],
   "source": [
    "train_df.head()"
   ]
  },
  {
   "cell_type": "code",
   "execution_count": 62,
   "id": "1b9f672f",
   "metadata": {},
   "outputs": [
    {
     "name": "stderr",
     "output_type": "stream",
     "text": [
      "C:\\Users\\lenovo\\AppData\\Local\\Temp/ipykernel_8120/1817466627.py:1: SettingWithCopyWarning: \n",
      "A value is trying to be set on a copy of a slice from a DataFrame.\n",
      "Try using .loc[row_indexer,col_indexer] = value instead\n",
      "\n",
      "See the caveats in the documentation: https://pandas.pydata.org/pandas-docs/stable/user_guide/indexing.html#returning-a-view-versus-a-copy\n",
      "  train_df['ratings']=train_df['ratings'].astype(int)\n"
     ]
    }
   ],
   "source": [
    "train_df['ratings']=train_df['ratings'].astype(int)"
   ]
  },
  {
   "cell_type": "code",
   "execution_count": 63,
   "id": "3db3affb",
   "metadata": {},
   "outputs": [
    {
     "data": {
      "text/plain": [
       "array([0, 1, 2, 3, 4, 5])"
      ]
     },
     "execution_count": 63,
     "metadata": {},
     "output_type": "execute_result"
    }
   ],
   "source": [
    "train_df['ratings'].unique()"
   ]
  },
  {
   "cell_type": "code",
   "execution_count": 64,
   "id": "a140bc23",
   "metadata": {},
   "outputs": [],
   "source": [
    "X=train_df['comments']\n",
    "Y=train_df['ratings']"
   ]
  },
  {
   "cell_type": "code",
   "execution_count": 65,
   "id": "cac5c1a8",
   "metadata": {},
   "outputs": [],
   "source": [
    "from sklearn.model_selection import train_test_split\n",
    "X_train,X_test,Y_train,Y_test=train_test_split(X,Y,test_size=0.2)"
   ]
  },
  {
   "cell_type": "code",
   "execution_count": 66,
   "id": "147c77c2",
   "metadata": {},
   "outputs": [
    {
     "name": "stdout",
     "output_type": "stream",
     "text": [
      "X_train_shape (316692,)\n",
      "X_test (79174,)\n",
      "Y_train (316692,)\n",
      "Y_test (79174,)\n"
     ]
    }
   ],
   "source": [
    "print(\"X_train_shape\",X_train.shape)\n",
    "print(\"X_test\",X_test.shape)\n",
    "print(\"Y_train\",Y_train.shape)\n",
    "print(\"Y_test\",Y_test.shape)"
   ]
  },
  {
   "cell_type": "code",
   "execution_count": 73,
   "id": "69f8f88f",
   "metadata": {},
   "outputs": [
    {
     "data": {
      "text/plain": [
       "'The host canceled this reservation 11 days before arrival. This is an automated posting.'"
      ]
     },
     "execution_count": 73,
     "metadata": {},
     "output_type": "execute_result"
    }
   ],
   "source": [
    "X_train[5]"
   ]
  },
  {
   "cell_type": "code",
   "execution_count": 74,
   "id": "368b8493",
   "metadata": {},
   "outputs": [],
   "source": [
    "#converting words to index\n",
    "from keras.preprocessing.text import Tokenizer"
   ]
  },
  {
   "cell_type": "code",
   "execution_count": 75,
   "id": "875fa0fd",
   "metadata": {},
   "outputs": [],
   "source": [
    "tokenizer=Tokenizer(num_words=1000,lower=True)#num words--top frequent words needed\n",
    "tokenizer.fit_on_texts(X_train)"
   ]
  },
  {
   "cell_type": "code",
   "execution_count": 76,
   "id": "0b274530",
   "metadata": {},
   "outputs": [],
   "source": [
    "X_train=tokenizer.texts_to_sequences(X_train)#converting text to numbers\n",
    "X_test=tokenizer.texts_to_sequences(X_test)"
   ]
  },
  {
   "cell_type": "code",
   "execution_count": 77,
   "id": "371ee126",
   "metadata": {},
   "outputs": [
    {
     "data": {
      "text/plain": [
       "95007"
      ]
     },
     "execution_count": 77,
     "metadata": {},
     "output_type": "execute_result"
    }
   ],
   "source": [
    "vocabSize=len(tokenizer.word_index)+1\n",
    "vocabSize"
   ]
  },
  {
   "cell_type": "code",
   "execution_count": 78,
   "id": "5c866296",
   "metadata": {},
   "outputs": [
    {
     "name": "stdout",
     "output_type": "stream",
     "text": [
      "[168, 52, 49, 10, 1, 49, 18, 15, 683, 2, 133, 342, 819, 358, 211, 28, 675, 1, 388, 132, 59, 248, 3, 479]\n"
     ]
    }
   ],
   "source": [
    "print(X_train[8])#sequence of numbers\n",
    "#first number 168 means this word is 168th most frequent word in the dataset"
   ]
  },
  {
   "cell_type": "code",
   "execution_count": 79,
   "id": "88c1b0d8",
   "metadata": {},
   "outputs": [],
   "source": [
    "#from keras_preprocessing.sequence import pad_sequences\n",
    "from tensorflow.keras.preprocessing.sequence import pad_sequences"
   ]
  },
  {
   "cell_type": "code",
   "execution_count": 80,
   "id": "0896493d",
   "metadata": {},
   "outputs": [],
   "source": [
    "maxWordLen=100 #maximum words taken from each sentence is 100,if it is underlength,padded with 0\n",
    "X_train=pad_sequences(X_train,padding='post',maxlen=maxWordLen)\n",
    "X_test=pad_sequences(X_test,padding='post',maxlen=maxWordLen)"
   ]
  },
  {
   "cell_type": "code",
   "execution_count": 81,
   "id": "5a5c18f2",
   "metadata": {},
   "outputs": [
    {
     "data": {
      "text/plain": [
       "array([ 73, 216,  36,  52,  48, 107,  47,   4, 245,  98, 599,  21,  59,\n",
       "         3,  54,  43, 259,   1, 136,  40,  19,   5, 311,  47,   4, 170,\n",
       "        71,  28,  48,   0,   0,   0,   0,   0,   0,   0,   0,   0,   0,\n",
       "         0,   0,   0,   0,   0,   0,   0,   0,   0,   0,   0,   0,   0,\n",
       "         0,   0,   0,   0,   0,   0,   0,   0,   0,   0,   0,   0,   0,\n",
       "         0,   0,   0,   0,   0,   0,   0,   0,   0,   0,   0,   0,   0,\n",
       "         0,   0,   0,   0,   0,   0,   0,   0,   0,   0,   0,   0,   0,\n",
       "         0,   0,   0,   0,   0,   0,   0,   0,   0])"
      ]
     },
     "execution_count": 81,
     "metadata": {},
     "output_type": "execute_result"
    }
   ],
   "source": [
    "X_train[3]"
   ]
  },
  {
   "cell_type": "code",
   "execution_count": 84,
   "id": "d7a7a41b",
   "metadata": {},
   "outputs": [],
   "source": [
    "from keras.utils import to_categorical\n",
    "num_classes=6\n",
    "Y_train=to_categorical(Y_train,num_classes)\n",
    "Y_test=to_categorical(Y_test,num_classes)"
   ]
  },
  {
   "cell_type": "code",
   "execution_count": 87,
   "id": "542411ee",
   "metadata": {},
   "outputs": [],
   "source": [
    "from keras.models import Sequential\n",
    "from keras.layers import Dense,Dropout,Activation,SimpleRNN\n",
    "from keras import optimizers\n"
   ]
  },
  {
   "cell_type": "code",
   "execution_count": 90,
   "id": "7a181e5c",
   "metadata": {},
   "outputs": [],
   "source": [
    "#as RNN expects 3d input"
   ]
  },
  {
   "cell_type": "code",
   "execution_count": 88,
   "id": "bd3e492f",
   "metadata": {},
   "outputs": [
    {
     "name": "stdout",
     "output_type": "stream",
     "text": [
      "(316692, 100, 1)\n"
     ]
    }
   ],
   "source": [
    "X_train=np.array(X_train).reshape(X_train.shape[0],X_train.shape[1],1)\n",
    "print(X_train.shape)#100 columns as we had padded with 0s and fixed word count as 100 "
   ]
  },
  {
   "cell_type": "code",
   "execution_count": 89,
   "id": "34f040e3",
   "metadata": {},
   "outputs": [
    {
     "name": "stdout",
     "output_type": "stream",
     "text": [
      "(79174, 100, 1)\n"
     ]
    }
   ],
   "source": [
    "X_test=np.array(X_test).reshape(X_test.shape[0],X_test.shape[1],1)\n",
    "print(X_test.shape)"
   ]
  },
  {
   "cell_type": "code",
   "execution_count": 116,
   "id": "c6b20da5",
   "metadata": {},
   "outputs": [],
   "source": [
    "num_classes=6\n",
    "def RNNModel():\n",
    "    model=Sequential()\n",
    "    model.add(SimpleRNN(50,input_shape=(maxWordLen,1),return_sequences=False))\n",
    "    model.add(Dense(num_classes))\n",
    "    model.add(Activation('Softmax'))\n",
    "    model.summary()\n",
    "    adam=optimizers.Adam(lr=0.001)\n",
    "    model.compile(loss='categorical_crossentropy',optimizer=adam,metrics=['accuracy'])\n",
    "    return model\n",
    "    "
   ]
  },
  {
   "cell_type": "code",
   "execution_count": 117,
   "id": "abd62da5",
   "metadata": {},
   "outputs": [
    {
     "name": "stderr",
     "output_type": "stream",
     "text": [
      "C:\\Users\\lenovo\\AppData\\Local\\Temp/ipykernel_8120/3371070767.py:2: DeprecationWarning: KerasClassifier is deprecated, use Sci-Keras (https://github.com/adriangb/scikeras) instead. See https://www.adriangb.com/scikeras/stable/migration.html for help migrating.\n",
      "  model=KerasClassifier(build_fn=RNNModel,epochs=5,batch_size=50)\n"
     ]
    }
   ],
   "source": [
    "from keras.wrappers.scikit_learn import KerasClassifier\n",
    "model=KerasClassifier(build_fn=RNNModel,epochs=5,batch_size=50)\n"
   ]
  },
  {
   "cell_type": "code",
   "execution_count": 118,
   "id": "7eff3c5c",
   "metadata": {},
   "outputs": [
    {
     "name": "stdout",
     "output_type": "stream",
     "text": [
      "Model: \"sequential_10\"\n",
      "_________________________________________________________________\n",
      " Layer (type)                Output Shape              Param #   \n",
      "=================================================================\n",
      " simple_rnn_9 (SimpleRNN)    (None, 50)                2600      \n",
      "                                                                 \n",
      " dense_9 (Dense)             (None, 6)                 306       \n",
      "                                                                 \n",
      " activation_9 (Activation)   (None, 6)                 0         \n",
      "                                                                 \n",
      "=================================================================\n",
      "Total params: 2,906\n",
      "Trainable params: 2,906\n",
      "Non-trainable params: 0\n",
      "_________________________________________________________________\n",
      "Epoch 1/5\n",
      "6334/6334 [==============================] - 129s 20ms/step - loss: 0.2110 - accuracy: 0.9512\n",
      "Epoch 2/5\n",
      "6334/6334 [==============================] - 112s 18ms/step - loss: 0.2073 - accuracy: 0.9519\n",
      "Epoch 3/5\n",
      "6334/6334 [==============================] - 108s 17ms/step - loss: 0.2073 - accuracy: 0.9519\n",
      "Epoch 4/5\n",
      "6334/6334 [==============================] - 122s 19ms/step - loss: 0.2073 - accuracy: 0.9519\n",
      "Epoch 5/5\n",
      "6334/6334 [==============================] - 125s 20ms/step - loss: 0.2072 - accuracy: 0.9519\n"
     ]
    },
    {
     "data": {
      "text/plain": [
       "<keras.callbacks.History at 0x15e17506520>"
      ]
     },
     "execution_count": 118,
     "metadata": {},
     "output_type": "execute_result"
    }
   ],
   "source": [
    "model.fit(X_train,Y_train)"
   ]
  },
  {
   "cell_type": "code",
   "execution_count": 120,
   "id": "ba13aa46",
   "metadata": {},
   "outputs": [
    {
     "name": "stdout",
     "output_type": "stream",
     "text": [
      "2475/2475 [==============================] - 14s 6ms/step\n"
     ]
    }
   ],
   "source": [
    "from sklearn.metrics import accuracy_score\n",
    "y_pred=model.predict(X_test)\n",
    "Y_test_=np.argmax(Y_test,axis=1)\n"
   ]
  },
  {
   "cell_type": "code",
   "execution_count": 121,
   "id": "d5a1c0bd",
   "metadata": {},
   "outputs": [
    {
     "name": "stdout",
     "output_type": "stream",
     "text": [
      "Accuracy Score  0.9522317932654659\n"
     ]
    }
   ],
   "source": [
    "print(\"Accuracy Score \",accuracy_score(y_pred,Y_test_))"
   ]
  },
  {
   "cell_type": "code",
   "execution_count": 122,
   "id": "e4ac3afc",
   "metadata": {},
   "outputs": [
    {
     "name": "stdout",
     "output_type": "stream",
     "text": [
      "1/1 [==============================] - 0s 51ms/step\n",
      "[4]\n"
     ]
    }
   ],
   "source": [
    "#predicting on New Dataset\n",
    "sent=['Great clean place to stay']\n",
    "sent=tokenizer.texts_to_sequences(sent)#converting text to numbers\n",
    "sent=np.array(sent)\n",
    "sent=pad_sequences(sent,padding='post',maxlen=maxWordLen)\n",
    "sent=np.array(sent).reshape(sent.shape[0],sent.shape[1],1)\n",
    "\n",
    "pred=model.predict(np.array(sent))\n",
    "print(pred)#indicating the ordinal scale from 0 to 5 with 0 being the worst and 5 being the best rating"
   ]
  },
  {
   "cell_type": "code",
   "execution_count": null,
   "id": "452d39fd",
   "metadata": {},
   "outputs": [],
   "source": []
  }
 ],
 "metadata": {
  "kernelspec": {
   "display_name": "Python 3 (ipykernel)",
   "language": "python",
   "name": "python3"
  },
  "language_info": {
   "codemirror_mode": {
    "name": "ipython",
    "version": 3
   },
   "file_extension": ".py",
   "mimetype": "text/x-python",
   "name": "python",
   "nbconvert_exporter": "python",
   "pygments_lexer": "ipython3",
   "version": "3.10.9"
  }
 },
 "nbformat": 4,
 "nbformat_minor": 5
}
